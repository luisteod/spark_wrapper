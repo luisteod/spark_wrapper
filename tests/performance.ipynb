{
 "cells": [
  {
   "cell_type": "code",
   "execution_count": 1,
   "metadata": {},
   "outputs": [],
   "source": [
    "#%%\n",
    "import sys; sys.path.append(\"../\")\n",
    "from spark_wrapper.spark_wrapper import SparkWrapper\n",
    "from dotenv import load_dotenv; load_dotenv()\n",
    "import os\n",
    "\n",
    "ak = os.getenv(\"AWS_ACCESS_KEY\")\n",
    "sk = os.getenv(\"AWS_SECRET_KEY\")\n",
    "ep = os.getenv(\"AWS_ENDPOINT_URL\")\n",
    "\n",
    "pg_user = os.getenv(\"PG_USER\")\n",
    "pg_pwd = os.getenv(\"PG_PWD\")\n",
    "pg_host = os.getenv(\"PG_HOST\")\n",
    "pg_port = os.getenv(\"PG_PORT\")\n",
    "pg_db = os.getenv(\"PG_DB\")"
   ]
  },
  {
   "cell_type": "code",
   "execution_count": 2,
   "metadata": {},
   "outputs": [
    {
     "name": "stdout",
     "output_type": "stream",
     "text": [
      ":: loading settings :: url = jar:file:/home/luis/Documents/driva/utils/spark_wrapper/.venv/lib/python3.12/site-packages/pyspark/jars/ivy-2.5.1.jar!/org/apache/ivy/core/settings/ivysettings.xml\n"
     ]
    },
    {
     "name": "stderr",
     "output_type": "stream",
     "text": [
      "Ivy Default Cache set to: /home/luis/.ivy2/cache\n",
      "The jars for the packages stored in: /home/luis/.ivy2/jars\n",
      "org.apache.hadoop#hadoop-aws added as a dependency\n",
      "org.postgresql#postgresql added as a dependency\n",
      ":: resolving dependencies :: org.apache.spark#spark-submit-parent-c4fb2eeb-de5d-482c-bf7f-930e4c0b4381;1.0\n",
      "\tconfs: [default]\n",
      "\tfound org.apache.hadoop#hadoop-aws;3.2.2 in central\n",
      "\tfound com.amazonaws#aws-java-sdk-bundle;1.11.563 in central\n",
      "\tfound org.postgresql#postgresql;42.7.3 in central\n",
      "\tfound org.checkerframework#checker-qual;3.42.0 in central\n",
      ":: resolution report :: resolve 675ms :: artifacts dl 28ms\n",
      "\t:: modules in use:\n",
      "\tcom.amazonaws#aws-java-sdk-bundle;1.11.563 from central in [default]\n",
      "\torg.apache.hadoop#hadoop-aws;3.2.2 from central in [default]\n",
      "\torg.checkerframework#checker-qual;3.42.0 from central in [default]\n",
      "\torg.postgresql#postgresql;42.7.3 from central in [default]\n",
      "\t---------------------------------------------------------------------\n",
      "\t|                  |            modules            ||   artifacts   |\n",
      "\t|       conf       | number| search|dwnlded|evicted|| number|dwnlded|\n",
      "\t---------------------------------------------------------------------\n",
      "\t|      default     |   4   |   0   |   0   |   0   ||   4   |   0   |\n",
      "\t---------------------------------------------------------------------\n",
      ":: retrieving :: org.apache.spark#spark-submit-parent-c4fb2eeb-de5d-482c-bf7f-930e4c0b4381\n",
      "\tconfs: [default]\n",
      "\t0 artifacts copied, 4 already retrieved (0kB/30ms)\n",
      "24/09/24 13:06:02 WARN NativeCodeLoader: Unable to load native-hadoop library for your platform... using builtin-java classes where applicable\n",
      "Setting default log level to \"WARN\".\n",
      "To adjust logging level use sc.setLogLevel(newLevel). For SparkR, use setLogLevel(newLevel).\n"
     ]
    }
   ],
   "source": [
    "sw = SparkWrapper(num_cors=2, memory_gb=2) \\\n",
    "    .set_s3_conf(ak, sk, ep) \\\n",
    "    .set_pg_conf(pg_user, pg_pwd, pg_host, pg_port, pg_db) \n",
    "\n",
    "spark = sw.create_session()"
   ]
  },
  {
   "cell_type": "code",
   "execution_count": 3,
   "metadata": {},
   "outputs": [
    {
     "name": "stderr",
     "output_type": "stream",
     "text": [
      "24/09/24 13:06:10 WARN MetricsConfig: Cannot locate configuration: tried hadoop-metrics2-s3a-file-system.properties,hadoop-metrics2.properties\n",
      "24/09/24 13:06:21 WARN GarbageCollectionMetrics: To enable non-built-in garbage collector(s) List(G1 Concurrent GC), users should configure it(them) to spark.eventLog.gcMetrics.youngGenerationGarbageCollectors or spark.eventLog.gcMetrics.oldGenerationGarbageCollectors\n",
      "                                                                                \r"
     ]
    },
    {
     "name": "stdout",
     "output_type": "stream",
     "text": [
      "+--------------------+--------------------+--------------------+--------------------+------+-------------------------+--------------------------+--------------------------------------+------------------------+-------------------------------------+--------------------+------------------------+-------------------------------------+\n",
      "|              domain|   registration_date|   last_changed_date|     expiration_date|status|entity_registrant_doc_num|entity_registrant_doc_type|entity_registrant_legal_representative|entity_technical_doc_num|entity_technical_legal_representative|         nameservers|entity_registrar_doc_num|entity_registrar_legal_representative|\n",
      "+--------------------+--------------------+--------------------+--------------------+------+-------------------------+--------------------------+--------------------------------------+------------------------+-------------------------------------+--------------------+------------------------+-------------------------------------+\n",
      "|        dzinc.com.br|2021-03-17T20:25:17Z|2023-03-18T08:21:33Z|2027-03-17T20:25:17Z|active|           21567215000169|                      cnpj|                  João Gilberto Car...|                 MILME14|                                     |nameserver1.mixdi...|                    NULL|                                 NULL|\n",
      "|      portage.com.br|2016-07-28T20:11:24Z|2024-06-29T08:21:18Z|2027-07-28T20:11:24Z|active|           71603070000263|                      cnpj|                         Giovane Gomes|                  WIM119|                                     |e.sec.dns.br,f.se...|                    NULL|                                 NULL|\n",
      "|  engenhariah.com.br|2013-05-24T20:28:30Z|2024-04-17T20:25:09Z|2026-05-24T20:28:30Z|active|              07502705783|                       cpf|                  Vinicius Soares d...|                 VISSI32|                                     |ns1.locaweb.com.b...|                    NULL|                                 NULL|\n",
      "|cristianismosemfr...|2013-03-11T12:15:48Z|2023-04-06T08:22:48Z|2025-03-11T12:15:48Z|active|           21956814000174|                      cnpj|                  JOSUE BRANDAO AMORIM|                 JOBAM13|                                     |b.sec.dns.br,c.se...|                    NULL|                                 NULL|\n",
      "|  cbdmaquinas.com.br|2011-03-16T12:28:04Z|2023-03-31T19:05:10Z|2026-03-16T12:28:04Z|active|           12881924000123|                      cnpj|                  SIDNEI APARECIDO ...|                  WEM102|                                     |ns176.prodns.com....|                    NULL|                                 NULL|\n",
      "|  msalimentos.com.br|2013-10-19T02:55:38Z|2024-08-19T07:54:54Z|2025-10-19T02:55:38Z|active|              00356612325|                       cpf|                        Jackson Dantas|                   JDJ64|                                     |ns792.hostgator.c...|                     p43|                                     |\n",
      "|maiscontroleconta...|2013-02-18T14:30:20Z|2024-01-10T04:33:30Z|2025-02-18T14:30:20Z|active|              14588826832|                       cpf|                      Rogério de Jesus|                 ROJES29|                                     |ns1.locaweb.com.b...|                      p2|                                     |\n",
      "|       netwil.net.br|2018-06-05T20:48:24Z|2024-06-20T12:30:30Z|2025-06-05T20:48:24Z|active|              08407954403|                       cpf|                  Manoel Messias Di...|                  WBDNE1|                                     |ns1.vipreseller13...|                    NULL|                                 NULL|\n",
      "|scotebasconstruto...|2014-10-20T17:01:24Z|2023-10-21T08:21:15Z|2024-10-20T17:01:24Z|active|              07645145803|                       cpf|                     Marcello Urdiales|                 PELCR12|                                     |ns1.locaweb.com.b...|                    NULL|                                 NULL|\n",
      "|     disk-art.com.br|2006-02-16T18:52:57Z|2023-02-09T08:20:53Z|2026-02-16T18:52:57Z|active|           06001981000178|                      cnpj|                   Fabio Peri La Torre|                   FPT29|                                     |cdns1.main-hostin...|                    NULL|                                 NULL|\n",
      "|chiquinholondrina...|2019-09-18T21:45:03Z|2022-09-28T08:21:02Z|2024-09-18T21:45:03Z|active|              78437369800|                       cpf|                  Nivaldo de Freita...|                  NIFMI1|                                     |d.sec.dns.br,e.se...|                    NULL|                                 NULL|\n",
      "|         ucwk.com.br|2019-11-15T10:43:04Z|2023-10-31T08:22:07Z|2024-11-15T10:43:04Z|active|              02860211616|                       cpf|                  Wanderson Barbosa...|                RASPI103|                                     |ns1.dns-parking.c...|                    NULL|                                 NULL|\n",
      "|    limaknack.com.br|2016-11-24T17:35:46Z|2022-12-01T15:08:08Z|2024-11-24T17:35:46Z|active|              37522985889|                       cpf|                  Joao Raphael de O...|                  JROLI4|                                     |ns1.locaweb.com.b...|                    NULL|                                 NULL|\n",
      "|   altaoffice.com.br|2020-02-25T13:34:20Z|2024-01-23T15:47:51Z|2027-02-25T13:34:20Z|active|           34762478000170|                      cnpj|                  MIQUEIAS RODRIGUE...|                 MIRPA20|                                     |fish.ns.cloudflar...|                    NULL|                                 NULL|\n",
      "|       todepa.com.br|2023-09-11T13:17:49Z|2024-08-27T17:05:04Z|2026-09-11T13:17:49Z|active|              05281374842|                       cpf|                            ARÃO PERES|                   PGL47|                                     |ns948.hostgator.c...|                    NULL|                                 NULL|\n",
      "|     hadassah.ind.br|2019-09-25T17:38:24Z|2021-10-05T08:24:04Z|2027-09-25T17:38:24Z|active|           19466941000143|                      cnpj|                  Francisco Ricardo...|                  FRRES9|                                     |ns552.hostgator.c...|                    NULL|                                 NULL|\n",
      "|ellegancesemijoia...|2021-01-29T13:01:57Z|2023-02-13T15:43:47Z|2026-01-29T13:01:57Z|active|              01214520006|                       cpf|                        Jamille Marcon|                  MIINT7|                                     |dns1.centralserve...|                    NULL|                                 NULL|\n",
      "|ignifuganteparate...|2017-10-06T15:20:21Z|2022-10-21T08:22:10Z|2024-10-06T15:20:21Z|active|              29808288820|                       cpf|                      Marcio Matsutani|                MAMAT339|                                     |ns1.inteliware.in...|                    NULL|                                 NULL|\n",
      "|   leochaddad.com.br|2021-07-22T21:36:57Z|2023-05-20T08:21:34Z|2025-07-22T21:36:57Z|active|              50203618874|                       cpf|                  Leonardo Cury Haddad|                LECHA201|                                     |arturo.ns.cloudfl...|                    NULL|                                 NULL|\n",
      "| cbarquitetos.com.br|2009-08-21T17:16:30Z|2023-10-17T20:57:09Z|2025-08-21T17:16:30Z|active|           08197946000100|                      cnpj|                  Francisco de Paul...|                  KLFOR3|                                     |ns68.hostgator.co...|                    NULL|                                 NULL|\n",
      "+--------------------+--------------------+--------------------+--------------------+------+-------------------------+--------------------------+--------------------------------------+------------------------+-------------------------------------+--------------------+------------------------+-------------------------------------+\n",
      "only showing top 20 rows\n",
      "\n"
     ]
    }
   ],
   "source": [
    "df = spark.read.parquet('s3a://drivalake/sites/silver/whois/brazil/')\n",
    "df.persist()\n",
    "df.show()"
   ]
  },
  {
   "cell_type": "code",
   "execution_count": 6,
   "metadata": {},
   "outputs": [
    {
     "data": {
      "text/plain": [
       "2"
      ]
     },
     "execution_count": 6,
     "metadata": {},
     "output_type": "execute_result"
    }
   ],
   "source": [
    "df.rdd.getNumPartitions()"
   ]
  },
  {
   "cell_type": "code",
   "execution_count": 7,
   "metadata": {},
   "outputs": [
    {
     "name": "stderr",
     "output_type": "stream",
     "text": [
      "[Stage 8:>                                                          (0 + 1) / 1]\r"
     ]
    },
    {
     "name": "stdout",
     "output_type": "stream",
     "text": [
      "+--------------------+-----+\n",
      "|     expiration_date|count|\n",
      "+--------------------+-----+\n",
      "|2025-09-18T18:34:55Z|    1|\n",
      "|2025-09-09T02:34:10Z|    1|\n",
      "|2024-11-30T02:12:21Z|    2|\n",
      "|2025-02-15T12:00:27Z|    1|\n",
      "|2025-06-04T18:08:28Z|    1|\n",
      "|2025-04-20T16:19:05Z|    1|\n",
      "|2025-02-12T20:14:08Z|    1|\n",
      "|2025-06-11T12:37:19Z|    1|\n",
      "|2025-03-15T11:21:42Z|    1|\n",
      "|2033-07-27T16:51:47Z|    1|\n",
      "|2026-04-03T18:39:26Z|    2|\n",
      "|2026-06-14T21:23:56Z|    1|\n",
      "|2033-03-25T13:28:32Z|    1|\n",
      "|2024-12-10T20:28:57Z|    2|\n",
      "|2025-08-21T18:02:47Z|    2|\n",
      "|2025-08-29T18:38:52Z|    1|\n",
      "|2025-01-09T17:25:48Z|    2|\n",
      "|2025-11-20T17:44:31Z|    1|\n",
      "|2025-04-16T18:46:24Z|    2|\n",
      "|2026-03-13T19:41:56Z|    1|\n",
      "+--------------------+-----+\n",
      "only showing top 20 rows\n",
      "\n"
     ]
    },
    {
     "name": "stderr",
     "output_type": "stream",
     "text": [
      "                                                                                \r"
     ]
    }
   ],
   "source": [
    "df.groupBy(\"expiration_date\").count().show()"
   ]
  }
 ],
 "metadata": {
  "kernelspec": {
   "display_name": ".venv",
   "language": "python",
   "name": "python3"
  },
  "language_info": {
   "codemirror_mode": {
    "name": "ipython",
    "version": 3
   },
   "file_extension": ".py",
   "mimetype": "text/x-python",
   "name": "python",
   "nbconvert_exporter": "python",
   "pygments_lexer": "ipython3",
   "version": "3.12.4"
  }
 },
 "nbformat": 4,
 "nbformat_minor": 2
}
